{
 "cells": [
  {
   "cell_type": "markdown",
   "metadata": {},
   "source": [
    "# ALGORITHMIC QUESTION\n"
   ]
  },
  {
   "cell_type": "markdown",
   "metadata": {},
   "source": [
    "We decided to start with an implementation that require a dictionary in which the keys are the kids and their values is a set:\n",
    "\n",
    "To compute the function we see if the set of a kid is in a dormitory (they are also sets) with usually (I mean on average: see https://wiki.python.org/moin/TimeComplexity, set section, intersection s&t) O(min(len(set),len(dormitoru))) which are usually small numbers.\n",
    "\n",
    "We iterate iver the dictionary once and we make all this operation, but if we find an incoherence, we stop the iteration and return impossible disposition\n",
    "\n"
   ]
  },
  {
   "cell_type": "code",
   "execution_count": 6,
   "metadata": {},
   "outputs": [],
   "source": [
    "# dictionary and sets\n",
    "######## EXAMPLE 1 ########\n",
    "kids={}\n",
    "#initialize\n",
    "kids[0]=set([1,2])\n",
    "kids[1]=set([0,2])\n",
    "kids[2]=set([0,1])\n",
    "kids[3]=set([])\n",
    "\n",
    "###### EXAMPLE 2 #######\n",
    "adj_list3 = {\n",
    "\"A\" : set([\"B\", \"C\"]),\n",
    "\"B\" : set([\"A\", \"D\"]),\n",
    "\"C\" : set([\"A\", \"E\"]),\n",
    "\"D\" : set([\"G\"]),\n",
    "\"E\" : set([\"C\", \"F\"]),\n",
    "\"F\" : set([\"E\"]),\n",
    "\"G\" : set([\"D\"])}\n"
   ]
  },
  {
   "cell_type": "code",
   "execution_count": 10,
   "metadata": {},
   "outputs": [],
   "source": [
    "def solution(kids):\n",
    "    dormitory1=set()\n",
    "    dormitory2=set()\n",
    "\n",
    "    for k,v in kids.items():\n",
    "\n",
    "        if (v.isdisjoint(dormitory1)):\n",
    "            dormitory1.add(k)\n",
    "        elif ( (not(v.isdisjoint(dormitory1))) & (v.isdisjoint(dormitory2)) ):\n",
    "            dormitory2.add(k)\n",
    "        elif  ( (not(v.isdisjoint(dormitory1))) & (not(v.isdisjoint(dormitory2))) ):\n",
    "            return('Impossible disposition')\n",
    "        \n",
    "    print('dormitory1:',dormitory1)\n",
    "    print('dormitory2:',dormitory2)\n",
    "    return('We achieved our goal')\n",
    "    \n"
   ]
  },
  {
   "cell_type": "code",
   "execution_count": 11,
   "metadata": {},
   "outputs": [
    {
     "name": "stdout",
     "output_type": "stream",
     "text": [
      "dormitory1: {'D', 'E', 'A'}\n",
      "dormitory2: {'C', 'B', 'G', 'F'}\n"
     ]
    },
    {
     "data": {
      "text/plain": [
       "'We achieved our goal'"
      ]
     },
     "execution_count": 11,
     "metadata": {},
     "output_type": "execute_result"
    }
   ],
   "source": [
    " solution(adj_list3)\n",
    " #solution(kids)"
   ]
  }
 ],
 "metadata": {
  "interpreter": {
   "hash": "c0e40e7c7a66e87c69eaa7498d7778a1d8fa6b3e422091d0b3e8dafd8f730247"
  },
  "kernelspec": {
   "display_name": "Python 3.8.12 64-bit ('fds': conda)",
   "language": "python",
   "name": "python3"
  },
  "language_info": {
   "codemirror_mode": {
    "name": "ipython",
    "version": 3
   },
   "file_extension": ".py",
   "mimetype": "text/x-python",
   "name": "python",
   "nbconvert_exporter": "python",
   "pygments_lexer": "ipython3",
   "version": "3.8.12"
  },
  "orig_nbformat": 4
 },
 "nbformat": 4,
 "nbformat_minor": 2
}
