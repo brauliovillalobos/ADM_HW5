{
 "cells": [
  {
   "cell_type": "markdown",
   "metadata": {},
   "source": [
    "# ALGORITHMIC QUESTION\n"
   ]
  },
  {
   "cell_type": "markdown",
   "metadata": {},
   "source": [
    "This problem might be defined with graph theory: we can imagine each kid as a node $ v \\in V ={1,...,n}$ and put an edge if that pair of kids (nodes) fights.\n",
    "\n",
    "We can imagine to receive an matrix M that represents this problem: in this case $ M \\in R^{nxn}$ is a symmetric matrix filled with zeros and ones (if there is an edge between the two nodes) and k is $\\frac{ number of ones}{2}$\n",
    "\n",
    "Another representation adjacently list and we can use a dictionary as a datastructure that has the kid as a key and the kids who dislikes as values.\n",
    "\n"
   ]
  },
  {
   "cell_type": "code",
   "execution_count": null,
   "metadata": {},
   "outputs": [],
   "source": []
  },
  {
   "cell_type": "code",
   "execution_count": 46,
   "metadata": {},
   "outputs": [],
   "source": [
    "# dictionary and sets\n",
    "kids={}\n",
    "#initialize\n",
    "kids[0]=set([1,2])\n",
    "kids[1]=set([0])\n",
    "kids[2]=set([0])\n",
    "kids[3]=set([])\n",
    "\n",
    "\n",
    "\n"
   ]
  },
  {
   "cell_type": "code",
   "execution_count": 47,
   "metadata": {},
   "outputs": [
    {
     "data": {
      "text/plain": [
       "{0: {1, 2}, 1: {0}, 2: {0}, 3: set()}"
      ]
     },
     "execution_count": 47,
     "metadata": {},
     "output_type": "execute_result"
    }
   ],
   "source": [
    "kids"
   ]
  },
  {
   "cell_type": "code",
   "execution_count": 48,
   "metadata": {},
   "outputs": [],
   "source": [
    "def solution(kids):\n",
    "    dormitory1=set()\n",
    "    dormitory2=set()\n",
    "\n",
    "    for k,v in kids.items():\n",
    "\n",
    "        if (v.isdisjoint(dormitory1)):\n",
    "            dormitory1.add(k)\n",
    "        elif ( (not(v.isdisjoint(dormitory1))) & (v.isdisjoint(dormitory2)) ):\n",
    "            dormitory2.add(k)\n",
    "        elif  ( (not(v.isdisjoint(dormitory1))) & (not(v.isdisjoint(dormitory2))) ):\n",
    "            return(' impossible disposition')\n",
    "        \n",
    "    print('dormitory1:',dormitory1)\n",
    "    print('dormitory2:',dormitory2)\n",
    "    return('1')\n",
    "    \n"
   ]
  },
  {
   "cell_type": "code",
   "execution_count": 49,
   "metadata": {},
   "outputs": [
    {
     "name": "stdout",
     "output_type": "stream",
     "text": [
      "dormitory1: {0, 3}\n",
      "dormitory2: {1, 2}\n"
     ]
    },
    {
     "data": {
      "text/plain": [
       "'1'"
      ]
     },
     "execution_count": 49,
     "metadata": {},
     "output_type": "execute_result"
    }
   ],
   "source": [
    " solution(kids)"
   ]
  },
  {
   "cell_type": "code",
   "execution_count": null,
   "metadata": {},
   "outputs": [],
   "source": []
  }
 ],
 "metadata": {
  "interpreter": {
   "hash": "c0e40e7c7a66e87c69eaa7498d7778a1d8fa6b3e422091d0b3e8dafd8f730247"
  },
  "kernelspec": {
   "display_name": "Python 3.8.12 64-bit ('fds': conda)",
   "language": "python",
   "name": "python3"
  },
  "language_info": {
   "codemirror_mode": {
    "name": "ipython",
    "version": 3
   },
   "file_extension": ".py",
   "mimetype": "text/x-python",
   "name": "python",
   "nbconvert_exporter": "python",
   "pygments_lexer": "ipython3",
   "version": "3.8.12"
  },
  "orig_nbformat": 4
 },
 "nbformat": 4,
 "nbformat_minor": 2
}
