{
 "cells": [
  {
   "cell_type": "markdown",
   "id": "be2cb346-2649-4deb-8403-ed0da19a9093",
   "metadata": {},
   "source": [
    "# Importing the Data "
   ]
  },
  {
   "cell_type": "code",
   "execution_count": 1,
   "id": "b193d9bb-f62c-4e49-8eb6-5d91deabeaa7",
   "metadata": {},
   "outputs": [],
   "source": [
    "import pickle\n",
    "import pandas as pd\n",
    "import numpy as np\n",
    "\n",
    "with open('interactions.pickle', 'rb') as handle:\n",
    "    my_dict = pickle.load(handle)"
   ]
  },
  {
   "cell_type": "markdown",
   "id": "37b041c9-7c45-4ce1-b926-3b4e5f254871",
   "metadata": {},
   "source": [
    "# Functionality 3 - Shortest Ordered Route\n",
    "\n",
    "It takes in input:\n",
    "\n",
    "* An interval of time\n",
    "* A sequence of users p = [p_2, ..., p_n-1]\n",
    "* Initial user p_1 and an end user p_n\n",
    "\n",
    "Implement an algorithm that returns the shortest walk that goes from user p_j to p_n, and that visits in order the nodes in p. The choice of p_j and p_n can be done randomly (or if it improves the performance of the algorithm you can also define it in any other way)\n",
    "\n",
    "Consider that:\n",
    "\n",
    "* The algorithm needs to handle the case that the graph is not connected, thus not all the nodes in p are reachable from p_1. In such scenario, it is enough to let the program give in output the string \"Not possible\".\n",
    "* That the graph is weighted\n",
    "* Since we are dealing with walks, you can pass more than once on the same node p_i, but you have to preserve order. E.g.: if you pass through p_2 and you are going to p_3, you can pass through p_10, but once you will be in p_9, you will have to go back to p_10 as well."
   ]
  },
  {
   "cell_type": "code",
   "execution_count": 101,
   "id": "1f335020-8646-4bc3-93b0-e32bb0e48322",
   "metadata": {},
   "outputs": [],
   "source": [
    "def flatten_f(array_to_flatten):\n",
    "    return [item for sublist in array_to_flatten for item in sublist]"
   ]
  },
  {
   "cell_type": "code",
   "execution_count": 102,
   "id": "c0046c97-5d2a-4efe-b0a7-a633ed6b6577",
   "metadata": {},
   "outputs": [],
   "source": [
    "def filter_by_timestamps_f(initial_time,final_time,dict_to_filter):\n",
    "    '''\n",
    "    Function that filters a graph and leaves only those edges with a timestamp within the interval of initial_time and final_time,\n",
    "    defined by the user. Function currently creates a new dictionary but it can be modified so that it updates the existing dictionary.\n",
    "    '''\n",
    "    #Create new dictionary\n",
    "    filtered_dictionary = {}\n",
    "    for each_key in dict_to_filter: #For each key in the dictionary\n",
    "        to_test = np.array(dict_to_filter[each_key])[:,1] #Extract only the timestamps \n",
    "        indexes_to_filter = flatten_f(np.where(np.bitwise_and(to_test>initial_time,to_test<final_time))) #Get indexes of the timestamps that are within the desired time intervals\n",
    "        values_for_key = dict_to_filter[each_key] #Extracts all edges associated with a specific key\n",
    "        \n",
    "        #Redefine values of a particular key\n",
    "        filtered_dictionary.update({each_key: [values_for_key[i] for i in indexes_to_filter]}) #Keeps only those edges that have timestamps within desired time intervals.\n",
    "    return(filtered_dictionary)"
   ]
  },
  {
   "cell_type": "code",
   "execution_count": 103,
   "id": "362a3200-7a8a-4f3d-ad78-3afa4daa0bcd",
   "metadata": {},
   "outputs": [
    {
     "name": "stdout",
     "output_type": "stream",
     "text": [
      "85.14845299720764\n"
     ]
    }
   ],
   "source": [
    "import time\n",
    "\n",
    "start = time.time()\n",
    "\n",
    "filtered_dict = filter_by_timestamps(15000,15500,my_dict)\n",
    "\n",
    "end = time.time()\n",
    "print(end - start)"
   ]
  }
 ],
 "metadata": {
  "kernelspec": {
   "display_name": "Python 3",
   "language": "python",
   "name": "python3"
  },
  "language_info": {
   "codemirror_mode": {
    "name": "ipython",
    "version": 3
   },
   "file_extension": ".py",
   "mimetype": "text/x-python",
   "name": "python",
   "nbconvert_exporter": "python",
   "pygments_lexer": "ipython3",
   "version": "3.8.8"
  }
 },
 "nbformat": 4,
 "nbformat_minor": 5
}
