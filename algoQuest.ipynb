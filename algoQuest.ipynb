{
 "cells": [
  {
   "cell_type": "markdown",
   "id": "b489cbe5",
   "metadata": {},
   "source": [
    "# 4. Algorithmic question\n",
    "***\n",
    "A number n of kids are in a camp. Between some k pairs of them (a kid can be part of more than one pairs) there are often fights. At night there are two dormitories where the kids can sleep. We want, if possible, to assign each kid in one of the two dormitories in such a way that each pair of kids that fights often is assigned to a different dormitory. (There are no space problems and the two dormitories can have different number of kids.)\n",
    "\n",
    "Give an algorithm that is linear in n and k that is able to answer whether such an assignment is possible and, if so, return one."
   ]
  },
  {
   "cell_type": "code",
   "execution_count": 1,
   "id": "b357684d",
   "metadata": {},
   "outputs": [],
   "source": [
    "def get_graph(nodes, edges):          # O(n + k)\n",
    "    graph = dict()\n",
    "    for node in nodes:                # O(n)\n",
    "        graph[node] = []\n",
    "    for edge in edges:                # O(k)\n",
    "        n1, n2 = edge\n",
    "        graph[n1] = graph[n1] + [n2]\n",
    "        graph[n2] = graph[n2] + [n1]\n",
    "    return graph"
   ]
  },
  {
   "cell_type": "code",
   "execution_count": 6,
   "id": "f6bbc6cf",
   "metadata": {},
   "outputs": [],
   "source": [
    "def cc_bfs(queue, color, visited, graph):\n",
    "    while queue:                     # O(n)\n",
    "        u = queue.pop(0)\n",
    "        visited[u] = True\n",
    "        for adj in graph[u]:\n",
    "            if adj == u:\n",
    "                return False\n",
    "            if color[adj] == -1:\n",
    "                color[adj] = 1 - color[u]\n",
    "                queue.append(adj)\n",
    "            elif color[adj] == color[u]:\n",
    "                return False\n",
    "    return True"
   ]
  },
  {
   "cell_type": "code",
   "execution_count": 7,
   "id": "1b6a360c",
   "metadata": {},
   "outputs": [],
   "source": [
    "def bi_connected_components(nodes, edges):\n",
    "    graph = get_graph(nodes, edges)\n",
    "    visited = dict()\n",
    "    color = dict()\n",
    "    for k in nodes:\n",
    "        # visited, color\n",
    "        visited[k] = False\n",
    "    for k in nodes:\n",
    "        # visited, color\n",
    "        color[k] = -1\n",
    "    # For each node ---> for each connected component\n",
    "    # If there are n CC time complexity is O(n) since the internal\n",
    "    # cc_bfs checks take O(1). Infact it means that there are no edges.\n",
    "    # Otherwise, if there is 1 CC, this loop will run once, but the\n",
    "    # cc_bfc will take O(n + k), as the bfs algorithm.\n",
    "    for node in nodes:\n",
    "        # if not visited --> visit and color\n",
    "        if not visited[node]:\n",
    "            color[node] = 0\n",
    "            return cc_bfs([node], color, visited, graph), color"
   ]
  },
  {
   "cell_type": "code",
   "execution_count": 14,
   "id": "3c942333",
   "metadata": {},
   "outputs": [
    {
     "name": "stdout",
     "output_type": "stream",
     "text": [
      "Example #: 1\n",
      "No way to separate the children \n",
      "\n",
      "Example #: 2\n",
      "Room # 1: [4, 6, 8, 9, 10]\n",
      "Room # 2: [1, 2, 3, 5, 7] \n",
      "\n",
      "Example #: 3\n",
      "Room # 1: [2, 3, 4, 5, 6, 7, 8, 9, 10]\n",
      "Room # 2: [1] \n",
      "\n",
      "Example #: 4\n",
      "No way to separate the children \n",
      "\n"
     ]
    }
   ],
   "source": [
    "children = [1, 2, 3, 4, 5, 6, 7, 8, 9, 10]\n",
    "pairs_f = [(1, 2), (1, 3), (3, 2), (8, 9), (9, 10), (5, 3), (1, 7)]\n",
    "pairs_v = [(1, 2), (1, 3), (8, 9), (9, 10), (5, 3), (1, 7)]\n",
    "pairs_v1 = []\n",
    "pairs_f1 = [(1,1)]\n",
    "examples = [bi_connected_components(children, pairs_f), bi_connected_components(children, pairs_v),\n",
    "            bi_connected_components(children, pairs_v1), bi_connected_components(children, pairs_f1)]\n",
    "for i in range(len(examples)):\n",
    "    print(\"Example #:\", i + 1)\n",
    "    if examples[i][0]:\n",
    "        room1, room2 = [], []\n",
    "        for key in examples[i][1]:\n",
    "            if examples[i][1][key] < 0:\n",
    "                room1.append(key)\n",
    "            else:\n",
    "                room2.append(key)\n",
    "        print(\"Room # 1:\", room1)\n",
    "        print(\"Room # 2:\", room2, \"\\n\")\n",
    "    else:\n",
    "        print(\"No way to separate the children\", \"\\n\")"
   ]
  },
  {
   "cell_type": "code",
   "execution_count": null,
   "id": "5b469dae",
   "metadata": {},
   "outputs": [],
   "source": []
  }
 ],
 "metadata": {
  "kernelspec": {
   "display_name": "Python 3",
   "language": "python",
   "name": "python3"
  },
  "language_info": {
   "codemirror_mode": {
    "name": "ipython",
    "version": 3
   },
   "file_extension": ".py",
   "mimetype": "text/x-python",
   "name": "python",
   "nbconvert_exporter": "python",
   "pygments_lexer": "ipython3",
   "version": "3.8.8"
  }
 },
 "nbformat": 4,
 "nbformat_minor": 5
}
