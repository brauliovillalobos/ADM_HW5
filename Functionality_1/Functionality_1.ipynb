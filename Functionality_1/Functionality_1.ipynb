{
 "cells": [
  {
   "cell_type": "markdown",
   "id": "4ecce75e-606c-4377-9771-c5662523a48e",
   "metadata": {},
   "source": [
    "# Importing the Data "
   ]
  },
  {
   "cell_type": "code",
   "execution_count": 15,
   "id": "702cb315-0f8c-4b5e-935f-4e5f6eed4d26",
   "metadata": {},
   "outputs": [],
   "source": [
    "import pickle\n",
    "import pandas as pd\n",
    "import numpy as np\n",
    "import matplotlib.pyplot as plt\n",
    "import numpy as np\n",
    "\n",
    "with open('interactions.pickle', 'rb') as handle:\n",
    "    my_dict = pickle.load(handle)"
   ]
  },
  {
   "cell_type": "markdown",
   "id": "364ea55d-09a2-4d78-95ca-0374ef9984d0",
   "metadata": {},
   "source": [
    "# Functionality 1 - Get the overall features of the graph\n",
    "\n",
    "It takes in input:\n",
    "\n",
    "* One of the 3 graphs\n",
    "\n",
    "The output should return:\n",
    "\n",
    "* Whether the graph is directed or not\n",
    "* Number of users\n",
    "* Number of answers/comments\n",
    "* Average number of links per user\n",
    "* Density degree of the graph\n",
    "* Whether the graph is sparse or dense"
   ]
  },
  {
   "cell_type": "markdown",
   "id": "08dc35c7-d4f6-4533-a8d2-2b6bf84772f5",
   "metadata": {},
   "source": [
    "#### 1.1 Graph is directed or not?"
   ]
  },
  {
   "cell_type": "code",
   "execution_count": 16,
   "id": "4925e497-1056-4f7c-9c27-cfa129d8c133",
   "metadata": {},
   "outputs": [],
   "source": [
    "def directed_or_undirected_f(dict_to_search):\n",
    "    '''\n",
    "    If a vertex u has a edge that goes to vertex v, and v doesn't have a vertex that goes back to u, then the graph is directed. \n",
    "    We will prove this by checking the keys of our dictionary until we find the descripted situation. \n",
    "    '''\n",
    "    is_directed = True # Suppose graph is directed until proven the contrary\n",
    "    \n",
    "    for each_key in dict_to_search.keys(): #for each key of the dictionary\n",
    "        \n",
    "        target_nodes = set(np.array(dict_to_search[each_key])[:,0])\n",
    "        for each_adjacent_node in target_nodes:\n",
    "            if(each_adjacent_node not in dict_to_search.keys()): #If the adjacent node is not in keys, then there's not edge going back\n",
    "                is_directed = False\n",
    "                return(is_directed)\n",
    "            \n",
    "            adjacent_nodes = set(np.array(dict_to_search[each_adjacent_node])[:,0])\n",
    "            \n",
    "            if(each_key not in adjacent_nodes):\n",
    "                is_directed = False\n",
    "                return(is_directed)\n",
    "    return(is_directed)"
   ]
  },
  {
   "cell_type": "code",
   "execution_count": 18,
   "id": "608cbdcf-20d3-4345-9a91-4a399cc6ab49",
   "metadata": {},
   "outputs": [],
   "source": [
    "def density_distri_plot(graph_to_analyze):\n",
    "    '''\n",
    "    Function to count the frequency of the number of outgoing edges in each key of the graph to then plot the degree distribution. \n",
    "    '''\n",
    "    keys = dict_test_2.keys()\n",
    "    list_density = []\n",
    "    for each_key in keys:\n",
    "        list_density.append(len(dict_test_2[each_key]))\n",
    "    return list_density"
   ]
  },
  {
   "cell_type": "markdown",
   "id": "4dbfb7de-9596-44e9-9abe-254eafde50fd",
   "metadata": {},
   "source": [
    "#### 1.2 Number of users\n",
    "We will implement **Depth First Search (DFS)** to count the number of users that the graph has. "
   ]
  },
  {
   "cell_type": "code",
   "execution_count": 19,
   "id": "0b1cef5a-5ce1-4a1f-9260-e5fb110ad234",
   "metadata": {},
   "outputs": [],
   "source": [
    "def number_of_users_f(dict_to_search):\n",
    "    \n",
    "    dict_keys = set(dict_to_search.keys())\n",
    "    total_users = dict_keys\n",
    "    \n",
    "    for each_key in dict_keys.copy():\n",
    "        target_nodes = set(np.array(dict_to_search[each_key])[:,0])\n",
    "        difference = target_nodes.difference(total_users)\n",
    "        total_users.update(difference)\n",
    "    \n",
    "    return(len(total_users))"
   ]
  },
  {
   "cell_type": "markdown",
   "id": "49db4c4f-43be-452d-8bae-4e30dad0ccf8",
   "metadata": {},
   "source": [
    "#### 1.3 Number of answers/comments"
   ]
  },
  {
   "cell_type": "code",
   "execution_count": null,
   "id": "1ff555c4-3bcb-45ce-a542-98386ebf4d79",
   "metadata": {},
   "outputs": [],
   "source": []
  },
  {
   "cell_type": "markdown",
   "id": "560ad1c7-3c34-4f7a-8022-baeb23b2bf16",
   "metadata": {},
   "source": [
    "#### 1.4 Average number of links per user"
   ]
  },
  {
   "cell_type": "code",
   "execution_count": 20,
   "id": "7bc387d6-6c58-4093-bccc-041e4992f94a",
   "metadata": {},
   "outputs": [],
   "source": [
    "def outgoing_edges_f(dict_to_search):\n",
    "    '''\n",
    "    Function computes the total number of edges that exit from all the keys of the dictionary\n",
    "    '''\n",
    "    num_outgoing_edges = 0\n",
    "    \n",
    "    for each_key in dict_to_search.keys(): #Takes each key of the dictionary\n",
    "        outgoing_edges = np.array(dict_to_search[each_key])[:,0] #Takes each target node for a particular source node\n",
    "        num_outgoing_edges += len(outgoing_edges) #Increases the total number of outgoing edges by the total target nodes for a particular source node\n",
    "    \n",
    "    return(num_outgoing_edges)"
   ]
  },
  {
   "cell_type": "code",
   "execution_count": 21,
   "id": "818b55fa-647f-4d8c-801b-226608116a68",
   "metadata": {},
   "outputs": [],
   "source": [
    "def avg_num_links_f(num_of_users,num_of_edges):\n",
    "    '''\n",
    "    Function compues the average number of links per user by dividing the total number of edges of the dictionaty by the total number of users\n",
    "    '''\n",
    "    #num_outgoing_edges = outgoing_edges_f(dict_to_search)\n",
    "    \n",
    "    average_num_links = num_of_edges/num_of_users\n",
    "    \n",
    "    return(average_num_links)"
   ]
  },
  {
   "cell_type": "markdown",
   "id": "a357d88b-2ec7-492a-82f8-7ab60527a3e6",
   "metadata": {},
   "source": [
    "#### 1.5 Density degree of the graph"
   ]
  },
  {
   "cell_type": "code",
   "execution_count": 22,
   "id": "648b8646-bf43-4785-a170-62debcd2f36b",
   "metadata": {},
   "outputs": [],
   "source": [
    "def graph_density_f(edges_num, vertexes_num):\n",
    "    return(edges_num/(vertexes_num*(vertexes_num-1))/2)"
   ]
  },
  {
   "cell_type": "markdown",
   "id": "d17b9681-ec57-456b-b1ae-b2b0340f1108",
   "metadata": {},
   "source": [
    "#### 1.6 Whether the graph is sparse or dense"
   ]
  },
  {
   "cell_type": "code",
   "execution_count": 23,
   "id": "23a20e11-3208-45a8-8297-d32bdd10e9a8",
   "metadata": {},
   "outputs": [],
   "source": [
    "def sparse_or_dense_f(density_degree,threshold):\n",
    "    if density_degree >= threshold:\n",
    "        sparsity_result = \"Is dense with a threshold of \"+str(threshold)+\"!\"\n",
    "    else:\n",
    "        sparsity_result = \"Is sparse with a threshold of \"+str(threshold)+\"!\"\n",
    "    return sparsity_result"
   ]
  },
  {
   "cell_type": "code",
   "execution_count": 24,
   "id": "7ffbf18c-e40b-4f28-8fa1-66cff1f27d98",
   "metadata": {},
   "outputs": [],
   "source": [
    "def functionality_1(dict_to_search):\n",
    "    number_vertexes = number_of_users_f(dict_to_search)\n",
    "    number_edges = outgoing_edges_f(dict_to_search)\n",
    "    graph_density = graph_density_f(number_edges,number_vertexes)\n",
    "    directed_or_undirected = (\"The graph is undirected\") if directed_or_undirected_f(dict_to_search) else (\"The graph is directed\")\n",
    "    list_density = density_distri_plot(dict_to_search)\n",
    "    output_f1 = {'Info': ['Graph is directed or undirected?', 'Total number of users', 'Total number of answers/comments', \n",
    "                 'Average number of links per user','Graph Density Degree','Graph is sparse or dense?'],\n",
    "                 'Result': [directed_or_undirected,number_vertexes,'NA',avg_num_links_f(number_vertexes,number_edges),\n",
    "                           graph_density,sparse_or_dense_f(graph_density,0.1)]}\n",
    "    output_f1 = pd.DataFrame(output_f1)\n",
    "    \n",
    "    \n",
    "    #Visualization\n",
    "    %matplotlib inline\n",
    "\n",
    "    plt.hist(list_density, bins=20) \n",
    "    plt.ylabel('Graph Density')\n",
    "    plt.title(label = 'Density distribution of Merged graph')\n",
    "    \n",
    "    return output_f1"
   ]
  },
  {
   "cell_type": "code",
   "execution_count": 25,
   "id": "044af0b2-fa8b-4920-949b-a8272418d1fb",
   "metadata": {},
   "outputs": [
    {
     "data": {
      "text/html": [
       "<div>\n",
       "<style scoped>\n",
       "    .dataframe tbody tr th:only-of-type {\n",
       "        vertical-align: middle;\n",
       "    }\n",
       "\n",
       "    .dataframe tbody tr th {\n",
       "        vertical-align: top;\n",
       "    }\n",
       "\n",
       "    .dataframe thead th {\n",
       "        text-align: right;\n",
       "    }\n",
       "</style>\n",
       "<table border=\"1\" class=\"dataframe\">\n",
       "  <thead>\n",
       "    <tr style=\"text-align: right;\">\n",
       "      <th></th>\n",
       "      <th>Info</th>\n",
       "      <th>Result</th>\n",
       "    </tr>\n",
       "  </thead>\n",
       "  <tbody>\n",
       "    <tr>\n",
       "      <th>0</th>\n",
       "      <td>Graph is directed or undirected?</td>\n",
       "      <td>The graph is directed</td>\n",
       "    </tr>\n",
       "    <tr>\n",
       "      <th>1</th>\n",
       "      <td>Total number of users</td>\n",
       "      <td>2601977</td>\n",
       "    </tr>\n",
       "    <tr>\n",
       "      <th>2</th>\n",
       "      <td>Total number of answers/comments</td>\n",
       "      <td>NA</td>\n",
       "    </tr>\n",
       "    <tr>\n",
       "      <th>3</th>\n",
       "      <td>Average number of links per user</td>\n",
       "      <td>24.403386</td>\n",
       "    </tr>\n",
       "    <tr>\n",
       "      <th>4</th>\n",
       "      <td>Graph Density Degree</td>\n",
       "      <td>0.000005</td>\n",
       "    </tr>\n",
       "    <tr>\n",
       "      <th>5</th>\n",
       "      <td>Graph is sparse or dense?</td>\n",
       "      <td>Is sparse with a threshold of 0.1!</td>\n",
       "    </tr>\n",
       "  </tbody>\n",
       "</table>\n",
       "</div>"
      ],
      "text/plain": [
       "                               Info                              Result\n",
       "0  Graph is directed or undirected?               The graph is directed\n",
       "1             Total number of users                             2601977\n",
       "2  Total number of answers/comments                                  NA\n",
       "3  Average number of links per user                           24.403386\n",
       "4              Graph Density Degree                            0.000005\n",
       "5         Graph is sparse or dense?  Is sparse with a threshold of 0.1!"
      ]
     },
     "execution_count": 25,
     "metadata": {},
     "output_type": "execute_result"
    },
    {
     "data": {
      "image/png": "[encoded data removed]",
      "text/plain": [
       "<Figure size 432x288 with 1 Axes>"
      ]
     },
     "metadata": {
      "needs_background": "light"
     },
     "output_type": "display_data"
    }
   ],
   "source": [
    "functionality_1(my_dict)"
   ]
  }
 ],
 "metadata": {
  "kernelspec": {
   "display_name": "Python 3",
   "language": "python",
   "name": "python3"
  },
  "language_info": {
   "codemirror_mode": {
    "name": "ipython",
    "version": 3
   },
   "file_extension": ".py",
   "mimetype": "text/x-python",
   "name": "python",
   "nbconvert_exporter": "python",
   "pygments_lexer": "ipython3",
   "version": "3.8.8"
  }
 },
 "nbformat": 4,
 "nbformat_minor": 5
}
