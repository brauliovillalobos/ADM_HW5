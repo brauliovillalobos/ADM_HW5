{
 "cells": [
  {
   "cell_type": "markdown",
   "metadata": {},
   "source": [
    "## Karger Algorithm for weighted graph"
   ]
  },
  {
   "cell_type": "markdown",
   "metadata": {},
   "source": [
    "Pipeline:\n",
    "1. converting interval of time\n",
    "2. filtering dictionary using interval of time\n",
    "3. KARGER ALGORITHM \n",
    "4. Visualization"
   ]
  },
  {
   "cell_type": "markdown",
   "metadata": {},
   "source": [
    "### importing the data"
   ]
  },
  {
   "cell_type": "code",
   "execution_count": 1,
   "metadata": {},
   "outputs": [],
   "source": [
    "import pickle\n",
    "\n",
    "with open('../data/interactions.pickle', 'rb') as handle:\n",
    "    my_dict = pickle.load(handle)\n",
    "\n",
    "#(user2,time_stamp,score_associated_to_interaction)"
   ]
  },
  {
   "cell_type": "markdown",
   "metadata": {},
   "source": [
    "### Part 1: converting time interval"
   ]
  },
  {
   "cell_type": "code",
   "execution_count": 2,
   "metadata": {},
   "outputs": [],
   "source": [
    "def from_date_to_int(date):\n",
    "    '''\n",
    "    INPUT: (day,month,year)\n",
    "    OUTPUT: correspondent integer\n",
    "    '''\n",
    "    if date[1]==2:\n",
    "        integer=date[0]+date[1]*28+(date[2]-1970)*365\n",
    "    if date[1] in [4,6,9,11]:\n",
    "        integer=date[0]+date[1]*30+(date[2]-1970)*365\n",
    "    else:\n",
    "        integer=date[0]+date[1]*31+(date[2]-1970)*365\n",
    "    return(integer)"
   ]
  },
  {
   "cell_type": "code",
   "execution_count": 3,
   "metadata": {},
   "outputs": [],
   "source": [
    "def convert_interval(interval):\n",
    "    '''\n",
    "    INPUT= interval of time in format [(dd,mm,yyyy),(dd,mm,yyyy)] --> [start,end]\n",
    "    OUTPUT: interval of time in format [encoded_start,encoded_end] where encoded are integers values\n",
    "    '''\n",
    "    new_int=[]\n",
    "    for date in interval:\n",
    "        new_int.append(from_date_to_int(date))\n",
    "    \n",
    "    return( new_int)"
   ]
  },
  {
   "cell_type": "code",
   "execution_count": 4,
   "metadata": {},
   "outputs": [
    {
     "data": {
      "text/plain": [
       "[14116, 14117]"
      ]
     },
     "execution_count": 4,
     "metadata": {},
     "output_type": "execute_result"
    }
   ],
   "source": [
    "#imagine to take in input date in format [(dd,mm,yyyy),(dd,mm,yyyy)]\n",
    "\n",
    "#first day included, second day escluded\n",
    "interval=[(29,7,2008),(30,7,2008)] \n",
    "\n",
    "converted_interval=convert_interval(interval)\n",
    "converted_interval"
   ]
  },
  {
   "cell_type": "markdown",
   "metadata": {},
   "source": [
    "### Part 2: filtering dictionary using the interval"
   ]
  },
  {
   "cell_type": "code",
   "execution_count": 5,
   "metadata": {},
   "outputs": [],
   "source": [
    "def filter_dictionary(dictionary,converted_interval): \n",
    "    '''\n",
    "    INPUT: dictionary \n",
    "           interval of time encoded \n",
    "    OUTPUT: dictionary filtered that has just the interactions in that time interval\n",
    "    '''\n",
    "    filtered_dictionary={}\n",
    "    for key,value in dictionary.items():\n",
    "        for elem in value:\n",
    "            if ( (elem[1]>=converted_interval[0] and elem[1]<converted_interval[1]) ): # or (elem[1]>converted_interval[2] and elem[1]<converted_interval[3]) ):\n",
    "                try:\n",
    "                    filtered_dictionary[key].append(elem)\n",
    "                except:\n",
    "                    filtered_dictionary[key]=[elem]\n",
    "    return(filtered_dictionary)  "
   ]
  },
  {
   "cell_type": "code",
   "execution_count": 6,
   "metadata": {},
   "outputs": [],
   "source": [
    "filtered_dictionary=filter_dictionary(my_dict,converted_interval)\n"
   ]
  },
  {
   "cell_type": "code",
   "execution_count": 7,
   "metadata": {},
   "outputs": [
    {
     "data": {
      "text/plain": [
       "232"
      ]
     },
     "execution_count": 7,
     "metadata": {},
     "output_type": "execute_result"
    }
   ],
   "source": [
    "len(filtered_dictionary)"
   ]
  },
  {
   "cell_type": "markdown",
   "metadata": {},
   "source": [
    "Create the final dictionary eliminating the edges that start from a node a go to the same node and take the sum if there are two edges that start from the same node and point the same node.\n",
    "This dictionary does not have timestamp anymore since we do not require it anymore\n",
    "\n",
    "**Example** : \n",
    "* if i have {1:[(1,10)]} I drop this element since user1 gives an answer to himself\n",
    "* if i have {1:[(2,10),(2,5)]} i take {'1,2':sum(10+5)}"
   ]
  },
  {
   "cell_type": "code",
   "execution_count": 8,
   "metadata": {},
   "outputs": [],
   "source": [
    "\n",
    "G={}\n",
    "# go through the dictionary\n",
    "for k,v in  filtered_dictionary.items():\n",
    "    # slice the list attached to every element\n",
    "    for value in v:\n",
    "        # remove people that speaks with themselves\n",
    "        if k!=value[0]:\n",
    "            try:\n",
    "                #sum weight between the same nodes\n",
    "                previous= G[str(k)+','+str(value[0])]\n",
    "                G[str(k)+','+str(value[0])].append(previous+value[2])\n",
    "            except:\n",
    "                G[str(k)+','+str(value[0])]=[value[2]]\n",
    "   "
   ]
  },
  {
   "cell_type": "code",
   "execution_count": 9,
   "metadata": {},
   "outputs": [],
   "source": [
    "if(len(G))==0:\n",
    "    print('in this interval we do not have users')"
   ]
  },
  {
   "cell_type": "markdown",
   "metadata": {},
   "source": [
    "The dictionary has the format  {'user1,user2':[score_of_interactions]}: you can uncomment to see if you are curious "
   ]
  },
  {
   "cell_type": "code",
   "execution_count": 10,
   "metadata": {},
   "outputs": [],
   "source": [
    "#G"
   ]
  },
  {
   "cell_type": "markdown",
   "metadata": {},
   "source": [
    "# Part 3: Karger Algorithm"
   ]
  },
  {
   "cell_type": "markdown",
   "metadata": {},
   "source": [
    " For the supernode I will use the format 'nodex|nodey|nodez' \n",
    "\n",
    "\n",
    "Contraction function: select a random node from a graph, take another node connected to the first one randon and merged them together creating a supernode"
   ]
  },
  {
   "cell_type": "code",
   "execution_count": 11,
   "metadata": {},
   "outputs": [],
   "source": [
    "import random\n",
    "def contraction (G):\n",
    "    '''\n",
    "    INPUT: a graph \n",
    "    during every itertion also len(G) became len(G)-1\n",
    "    OUTPUT: the graph in which I have contracted to random nodes \n",
    "    '''\n",
    "    \n",
    "    edge_between=random.choice(list(G))\n",
    "    node1_to_merge=edge_between.split(',')[0]\n",
    "    node2_to_merge=edge_between.split(',')[1]\n",
    "\n",
    "    #delete edge between the two  nodes\n",
    "    del G[edge_between]\n",
    "    t=node1_to_merge+'|'+node2_to_merge\n",
    "    \n",
    "\n",
    "    G_new=G.copy()\n",
    "\n",
    "    for k,v in G.items():\n",
    "        \n",
    "        #edges from node1_to_merge\n",
    "        if k.split(',')[0]==node1_to_merge:\n",
    "            if k in G_new:\n",
    "                del G_new[k]\n",
    "            try:\n",
    "                previous=G_new[t+','+k.split(',')[1]]\n",
    "                G_new[t+','+k.split(',')[1]]=v+previous\n",
    "            except:\n",
    "                G_new[t+','+k.split(',')[1]]=v\n",
    "\n",
    "        #edges from node2_to_merge\n",
    "        if k.split(',')[0]==node2_to_merge:\n",
    "            if k in G_new:\n",
    "                del G_new[k]\n",
    "            try:\n",
    "                previous=G_new[t+','+k.split(',')[1]]\n",
    "                G_new[t+','+k.split(',')[1]]=v+previous\n",
    "            except:\n",
    "                G_new[t+','+k.split(',')[1]]=v\n",
    "\n",
    "        #edges directed to node1_to_merge\n",
    "        if k.split(',')[1]==node1_to_merge:\n",
    "            if k in G_new:\n",
    "                del G_new[k]\n",
    "            try:\n",
    "                previous=G_new[k.split(',')[0]+','+t]\n",
    "                G_new[k.split(',')[0]+','+t]=v+previous\n",
    "            except:\n",
    "                G_new[k.split(',')[0]+','+t]=v\n",
    "\n",
    "        #edges directet to node2_to_merge except the one that cinnect node1_to_merge and node2_to_merge\n",
    "        if k.split(',')[1]==node2_to_merge:\n",
    "            if k in G_new:\n",
    "                del G_new[k]\n",
    "            try:\n",
    "                previous=G_new[k.split(',')[0]+','+t]\n",
    "                G_new[k.split(',')[0]+','+t]=v+previous\n",
    "            except:\n",
    "                G_new[k.split(',')[0]+','+t]=v\n",
    "\n",
    "    return G_new\n",
    "        \n",
    "\n",
    "\n",
    "\n"
   ]
  },
  {
   "cell_type": "markdown",
   "metadata": {},
   "source": [
    "The following function computer a single iteration of Karger Algorithm but we are not sure that this will produce a correct an admissible result: we will need to run more times"
   ]
  },
  {
   "cell_type": "code",
   "execution_count": 12,
   "metadata": {},
   "outputs": [],
   "source": [
    "import math\n",
    "def iteration(G,s,t):\n",
    "    '''\n",
    "    INPUT= G\n",
    "    OUTPUT= cut of G if it is ammisible, inf otherwise\n",
    "    '''\n",
    "    G_new=G.copy()\n",
    "    while len(G_new)>1:\n",
    "        G_new=contraction(G_new)\n",
    "\n",
    "\n",
    "    ###check if it  is a valid cut: s and t need to be in two different partition. I store the partitions because they are necessary for the visualization\n",
    "    for k,v in G_new.items():\n",
    "        partition1=k.split(',')[0]\n",
    "        partition2=k.split(',')[1]\n",
    "\n",
    "    elements=[x for x in partition1.split('|')]\n",
    "    cont=0\n",
    "    for elem in elements:\n",
    "        if (elem==s or elem==t):\n",
    "            cont+=1\n",
    "\n",
    "    if cont==1:\n",
    "        cut=sum(list(G_new.values())[0]) \n",
    "    else:\n",
    "        cut=math.inf\n",
    "    \n",
    "    return cut,partition1,partition2"
   ]
  },
  {
   "cell_type": "code",
   "execution_count": 13,
   "metadata": {},
   "outputs": [],
   "source": [
    "def Karger(G,s,t):\n",
    "\n",
    "    # check if s and t are in the graph otherwise we can not compute the algorithm\n",
    "    conts=0\n",
    "    contt=0\n",
    "    for k,v in G.items():\n",
    "        if (k.split(',')[0]==s or k.split(',')[1]==s):\n",
    "            conts+=1\n",
    "        if (k.split(',')[0]==t or k.split(',')[1]==t):\n",
    "            contt+=1\n",
    "    if (conts<1 or contt<1):\n",
    "        return(' users not in the graph')\n",
    "\n",
    "    #### If we can efctively run the algorithm###   \n",
    "    min_cut=math.inf\n",
    "    partitionA={}\n",
    "    partitionB={}\n",
    "    # I ran len G times even if it is not correct just for time reason but we can change this parameter\n",
    "    for i in range(len(G)):\n",
    "        cut,partition1,partition2=iteration(G,s,t)\n",
    "        if cut<min_cut:\n",
    "            min_cut=cut\n",
    "            partitionA=partition1\n",
    "            partitionB=partition2\n",
    "            \n",
    "    return(min_cut,partitionA,partitionB)"
   ]
  },
  {
   "cell_type": "markdown",
   "metadata": {},
   "source": [
    "### We can execute the algorith in a real situation: every check was positive so i expect a result, at least a non admissible one"
   ]
  },
  {
   "cell_type": "code",
   "execution_count": 14,
   "metadata": {},
   "outputs": [],
   "source": [
    "min_cut,partitionA,partitionB=Karger(G,'17','51')"
   ]
  },
  {
   "cell_type": "code",
   "execution_count": 15,
   "metadata": {},
   "outputs": [
    {
     "data": {
      "text/plain": [
       "10"
      ]
     },
     "execution_count": 15,
     "metadata": {},
     "output_type": "execute_result"
    }
   ],
   "source": [
    "min_cut"
   ]
  },
  {
   "cell_type": "markdown",
   "metadata": {},
   "source": [
    "# Visualization4 "
   ]
  },
  {
   "cell_type": "markdown",
   "metadata": {},
   "source": [
    "We can decide between many different visualization but I think the most rappresentative one is the last cut between the two partitions of the graph.\n",
    "In addition, is very difficult to represent a large number of links in a single image and this goes in opposite direction with respect to the idea of helping understand the process with an image."
   ]
  },
  {
   "cell_type": "code",
   "execution_count": 16,
   "metadata": {},
   "outputs": [],
   "source": [
    "import networkx as nx\n",
    "G=nx.Graph()"
   ]
  },
  {
   "cell_type": "code",
   "execution_count": 17,
   "metadata": {},
   "outputs": [],
   "source": [
    "\n",
    "G.add_edge('partitionA','partitionB',weight=min_cut)"
   ]
  },
  {
   "cell_type": "code",
   "execution_count": 18,
   "metadata": {},
   "outputs": [
    {
     "data": {
      "image/png": "[encoded data removed]",
      "text/plain": [
       "<Figure size 432x288 with 1 Axes>"
      ]
     },
     "metadata": {},
     "output_type": "display_data"
    }
   ],
   "source": [
    "import matplotlib.pyplot as plt\n",
    "nx.draw(G, with_labels=True)\n",
    "pos=nx.spring_layout(G)\n",
    "labels = nx.get_edge_attributes(G,'weight')\n",
    "nx.draw_networkx_edge_labels(G,pos,edge_labels=labels);"
   ]
  }
 ],
 "metadata": {
  "interpreter": {
   "hash": "c0e40e7c7a66e87c69eaa7498d7778a1d8fa6b3e422091d0b3e8dafd8f730247"
  },
  "kernelspec": {
   "display_name": "Python 3.8.12 64-bit ('fds': conda)",
   "language": "python",
   "name": "python3"
  },
  "language_info": {
   "codemirror_mode": {
    "name": "ipython",
    "version": 3
   },
   "file_extension": ".py",
   "mimetype": "text/x-python",
   "name": "python",
   "nbconvert_exporter": "python",
   "pygments_lexer": "ipython3",
   "version": "3.8.12"
  },
  "orig_nbformat": 4
 },
 "nbformat": 4,
 "nbformat_minor": 2
}
