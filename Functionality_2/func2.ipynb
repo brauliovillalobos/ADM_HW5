{
 "cells": [
  {
   "cell_type": "code",
   "execution_count": 1,
   "id": "be7d5389",
   "metadata": {},
   "outputs": [],
   "source": [
    "from pickle import load\n",
    "import pandas as pd\n",
    "import numpy as np\n",
    "import os\n",
    "import time\n",
    "\n",
    "import utilities"
   ]
  },
  {
   "cell_type": "code",
   "execution_count": 2,
   "id": "a2b8e773",
   "metadata": {},
   "outputs": [
    {
     "name": "stdout",
     "output_type": "stream",
     "text": [
      "C:\\Users\\USER\\Documents\\ADM_5\\13\\ADM_HW5-main\\Functionality_2\\..\\data\\interactions.pickle\n"
     ]
    }
   ],
   "source": [
    "cwd = os.getcwd()\n",
    "path = os.path.join(cwd, '..\\\\data\\\\interactions.pickle')\n",
    "print(path)\n",
    "with open(path, 'rb') as handle:\n",
    "    graph = load(handle)"
   ]
  },
  {
   "cell_type": "markdown",
   "id": "394fd004",
   "metadata": {},
   "source": [
    "## Functionality 2 - Find the best users!\n",
    "\n",
    "It takes in input:\n",
    "\n",
    "- A user/node\n",
    "- An interval of time\n",
    "- One of the following metrics: Betweeness 1, PageRank, ClosenessCentrality 3, DegreeCentrality\n",
    "\n",
    "The output should return:\n",
    "\n",
    "- The value of the given metric applied over the complete graph for the given interval of time\n",
    "\n",
    "Give an explanaition regarding the features of the user based on all of the metrics (e.g. if the betweeness metric is high, what does this mean in practice, what if the betweeness is low but it has a high PageRank value, etc.)"
   ]
  },
  {
   "cell_type": "code",
   "execution_count": 4,
   "id": "a0e180d9",
   "metadata": {},
   "outputs": [],
   "source": [
    "def ge_best_users(node, time_interval, metric):\n",
    "    pass"
   ]
  },
  {
   "cell_type": "code",
   "execution_count": 5,
   "id": "42aa0b19",
   "metadata": {},
   "outputs": [],
   "source": [
    "def filter_by_time_interval(initial_time, final_time, graph):\n",
    "    '''\n",
    "    Function that filters a graph and leaves only those edges with a timestamp within the interval of \n",
    "    initial_time and final_time, defined by the user. \n",
    "    '''\n",
    "    # instantiate a new graph/dict\n",
    "    time_graph = {}\n",
    "    # for each node in the graph\n",
    "    for node in graph: \n",
    "        times = np.array(graph[node])[:,1] \n",
    "        #Get indexes of the timestamps that are within the desired time interval\n",
    "        positions = np.where(np.bitwise_and(times >= initial_time, times <= final_time))\n",
    "        positions = [el for pos in positions for el in pos]\n",
    "        # get all edges associated with a specific node and redefine its edges\n",
    "        # keep only those edges that were created within the desired time interval\n",
    "        if  len([graph[node][i] for i in positions]) > 0:\n",
    "            time_graph[node] = [graph[node][i] for i in positions] # if i % 5 == 0]\n",
    "    return time_graph\n",
    "\n",
    "def filter_by_users(users, graph):\n",
    "    '''\n",
    "    Function that filters a graph and leaves only those edges between two nodes both present in the users list. \n",
    "    '''\n",
    "    # instantiate a new graph/dict\n",
    "    user_graph = {}\n",
    "    for node in users: \n",
    "        user_graph[node] = [t for t in graph[node] if t[0] in users] \n",
    "    return user_graph"
   ]
  },
  {
   "cell_type": "code",
   "execution_count": 6,
   "id": "51622662",
   "metadata": {},
   "outputs": [
    {
     "name": "stdout",
     "output_type": "stream",
     "text": [
      "61.200119972229004\n"
     ]
    }
   ],
   "source": [
    "start = time.time()\n",
    "f_graph = filter_by_time_interval(15001,15002,graph)\n",
    "end = time.time()\n",
    "print(end - start)"
   ]
  },
  {
   "cell_type": "code",
   "execution_count": 7,
   "id": "a4773afd",
   "metadata": {},
   "outputs": [],
   "source": [
    "def get_users(G):\n",
    "    keys = set(G.keys())\n",
    "    total_users = keys\n",
    "    for k in keys.copy():\n",
    "        nodes = set(np.array(G[k])[:,0])\n",
    "        difference = nodes.difference(total_users)\n",
    "        total_users.update(difference)\n",
    "    return total_users\n",
    "\n",
    "def get_total_graph(G, total_users):\n",
    "    for node in total_users:\n",
    "        if node not in G:\n",
    "            G[node] = []\n",
    "    return G"
   ]
  },
  {
   "cell_type": "code",
   "execution_count": 8,
   "id": "1d749a31",
   "metadata": {},
   "outputs": [],
   "source": [
    "users = get_users(f_graph)\n",
    "w_graph = get_total_graph(f_graph, users)"
   ]
  },
  {
   "cell_type": "code",
   "execution_count": 9,
   "id": "efe4df2f",
   "metadata": {},
   "outputs": [],
   "source": [
    "test_graph = filter_by_users(list(users)[0:1000], w_graph)"
   ]
  },
  {
   "cell_type": "code",
   "execution_count": 10,
   "id": "567a8bba",
   "metadata": {},
   "outputs": [
    {
     "name": "stdout",
     "output_type": "stream",
     "text": [
      "14177 1000\n"
     ]
    }
   ],
   "source": [
    "w_graph = get_total_graph(f_graph, users)\n",
    "print(len(f_graph), len(test_graph))"
   ]
  },
  {
   "cell_type": "code",
   "execution_count": 11,
   "id": "dfa448e4",
   "metadata": {},
   "outputs": [
    {
     "name": "stdout",
     "output_type": "stream",
     "text": [
      "0.0009989738464355469\n"
     ]
    }
   ],
   "source": [
    "start = time.time()\n",
    "degree = utilities.degree_centrality(test_graph)\n",
    "end = time.time()\n",
    "print(end - start)"
   ]
  },
  {
   "cell_type": "code",
   "execution_count": 22,
   "id": "ae4d5213",
   "metadata": {},
   "outputs": [
    {
     "name": "stdout",
     "output_type": "stream",
     "text": [
      "[(476, 0.008), (582, 0.008), (590520, 0.009), (196844, 0.013), (456, 0.015)]\n"
     ]
    }
   ],
   "source": [
    "ord_vals = sorted(degree.values(), reverse=True) \n",
    "maximum_keys = [k for k, v in degree.items() if v in ord_vals[0:5]]\n",
    "tuples = [(k, degree[k]) for k in maximum_keys]\n",
    "print(sorted(tuples, key= lambda k : k[1]))"
   ]
  },
  {
   "cell_type": "code",
   "execution_count": 13,
   "id": "4f06d8d9",
   "metadata": {},
   "outputs": [
    {
     "name": "stdout",
     "output_type": "stream",
     "text": [
      "50\n",
      "100\n",
      "150\n",
      "200\n",
      "250\n",
      "300\n",
      "350\n",
      "400\n",
      "450\n",
      "500\n",
      "550\n",
      "600\n",
      "650\n",
      "700\n",
      "750\n",
      "800\n",
      "850\n",
      "900\n",
      "950\n",
      "1000\n",
      "86189.4876112938\n"
     ]
    }
   ],
   "source": [
    "start = time.time()\n",
    "betweeness = utilities.betweeness_centrality(test_graph)\n",
    "end = time.time()\n",
    "print(end - start)"
   ]
  },
  {
   "cell_type": "code",
   "execution_count": null,
   "id": "9fc0253f",
   "metadata": {},
   "outputs": [],
   "source": [
    "betweeness"
   ]
  },
  {
   "cell_type": "code",
   "execution_count": 21,
   "id": "2a18338d",
   "metadata": {},
   "outputs": [
    {
     "name": "stdout",
     "output_type": "stream",
     "text": [
      "[(557219, 2.0), (557306, 2.0), (590299, 2.0), (557846, 2.0), (476, 3.0), (1034, 4.0)]\n"
     ]
    }
   ],
   "source": [
    "ordered_values = sorted(betweeness.values(), reverse=True) \n",
    "max_keys = [k for k, v in betweeness.items() if v in ordered_values[0:5]]\n",
    "couples = [(k, betweeness[k]) for k in max_keys]\n",
    "print(sorted(couples, key= lambda k : k[1]))"
   ]
  },
  {
   "cell_type": "code",
   "execution_count": null,
   "id": "685af825",
   "metadata": {},
   "outputs": [],
   "source": []
  }
 ],
 "metadata": {
  "kernelspec": {
   "display_name": "Python 3",
   "language": "python",
   "name": "python3"
  },
  "language_info": {
   "codemirror_mode": {
    "name": "ipython",
    "version": 3
   },
   "file_extension": ".py",
   "mimetype": "text/x-python",
   "name": "python",
   "nbconvert_exporter": "python",
   "pygments_lexer": "ipython3",
   "version": "3.8.8"
  }
 },
 "nbformat": 4,
 "nbformat_minor": 5
}
