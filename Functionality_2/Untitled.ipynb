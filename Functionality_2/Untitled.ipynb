{
 "cells": [
  {
   "cell_type": "code",
   "execution_count": 1,
   "id": "be7d5389",
   "metadata": {},
   "outputs": [],
   "source": [
    "from pickle import load\n",
    "import pandas as pd\n",
    "import numpy as np\n",
    "import os\n",
    "import time\n",
    "\n",
    "import utilities"
   ]
  },
  {
   "cell_type": "code",
   "execution_count": 3,
   "id": "a2b8e773",
   "metadata": {},
   "outputs": [
    {
     "name": "stdout",
     "output_type": "stream",
     "text": [
      "C:\\Users\\USER\\Documents\\ADM_5\\13\\ADM_HW5-main\\Functionality_2\\..\\data\\interactions.pickle\n"
     ]
    }
   ],
   "source": [
    "cwd = os.getcwd()\n",
    "path = os.path.join(cwd, '..\\\\data\\\\interactions.pickle')\n",
    "print(path)\n",
    "with open(path, 'rb') as handle:\n",
    "    graph = load(handle)"
   ]
  },
  {
   "cell_type": "markdown",
   "id": "394fd004",
   "metadata": {},
   "source": [
    "## Functionality 2 - Find the best users!\n",
    "\n",
    "It takes in input:\n",
    "\n",
    "- A user/node\n",
    "- An interval of time\n",
    "- One of the following metrics: Betweeness 1, PageRank, ClosenessCentrality 3, DegreeCentrality\n",
    "\n",
    "The output should return:\n",
    "\n",
    "- The value of the given metric applied over the complete graph for the given interval of time\n",
    "\n",
    "Give an explanaition regarding the features of the user based on all of the metrics (e.g. if the betweeness metric is high, what does this mean in practice, what if the betweeness is low but it has a high PageRank value, etc.)"
   ]
  },
  {
   "cell_type": "code",
   "execution_count": 4,
   "id": "a0e180d9",
   "metadata": {},
   "outputs": [],
   "source": [
    "def ge_best_users(node, time_interval, metric):\n",
    "    pass"
   ]
  },
  {
   "cell_type": "code",
   "execution_count": 5,
   "id": "42aa0b19",
   "metadata": {},
   "outputs": [],
   "source": [
    "def filter_by_time_interval(initial_time, final_time, graph):\n",
    "    '''\n",
    "    Function that filters a graph and leaves only those edges with a timestamp within the interval of \n",
    "    initial_time and final_time, defined by the user. \n",
    "    '''\n",
    "    # instantiate a new graph/dict\n",
    "    time_graph = {}\n",
    "    # for each node in the graph\n",
    "    for node in graph: \n",
    "        times = np.array(graph[node])[:,1] \n",
    "        #Get indexes of the timestamps that are within the desired time interval\n",
    "        positions = np.where(np.bitwise_and(times >= initial_time, times <= final_time))\n",
    "        positions = [el for pos in positions for el in pos]\n",
    "        # get all edges associated with a specific node and redefine its edges\n",
    "        # keep only those edges that were created within the desired time interval\n",
    "        if  len([graph[node][i] for i in positions]) > 0:\n",
    "            time_graph[node] = [graph[node][i] for i in positions] # if i % 5 == 0]\n",
    "    return time_graph\n",
    "\n",
    "def filter_by_users(users, graph):\n",
    "    '''\n",
    "    Function that filters a graph and leaves only those edges between two nodes both present in the users list. \n",
    "    '''\n",
    "    # instantiate a new graph/dict\n",
    "    user_graph = {}\n",
    "    for node in users: \n",
    "        user_graph[node] = [t for t in graph[node] if t[0] in users] \n",
    "    return user_graph"
   ]
  },
  {
   "cell_type": "code",
   "execution_count": 6,
   "id": "51622662",
   "metadata": {},
   "outputs": [
    {
     "name": "stdout",
     "output_type": "stream",
     "text": [
      "65.64990663528442\n"
     ]
    }
   ],
   "source": [
    "start = time.time()\n",
    "f_graph = filter_by_time_interval(15001,15002,graph)\n",
    "end = time.time()\n",
    "print(end - start)"
   ]
  },
  {
   "cell_type": "code",
   "execution_count": 9,
   "id": "a4773afd",
   "metadata": {},
   "outputs": [],
   "source": [
    "def get_users(G):\n",
    "    keys = set(G.keys())\n",
    "    total_users = keys\n",
    "    for k in keys.copy():\n",
    "        nodes = set(np.array(G[k])[:,0])\n",
    "        difference = nodes.difference(total_users)\n",
    "        total_users.update(difference)\n",
    "    return total_users\n",
    "\n",
    "def get_total_graph(G, total_users):\n",
    "    for node in total_users:\n",
    "        if node not in G:\n",
    "            G[node] = []\n",
    "    return G"
   ]
  },
  {
   "cell_type": "code",
   "execution_count": 10,
   "id": "1d749a31",
   "metadata": {},
   "outputs": [],
   "source": [
    "users = get_users(f_graph)\n",
    "w_graph = get_total_graph(f_graph, users)"
   ]
  },
  {
   "cell_type": "code",
   "execution_count": 11,
   "id": "efe4df2f",
   "metadata": {},
   "outputs": [],
   "source": [
    "test_graph = filter_by_users(list(users)[0:100], w_graph)"
   ]
  },
  {
   "cell_type": "code",
   "execution_count": 12,
   "id": "567a8bba",
   "metadata": {},
   "outputs": [
    {
     "name": "stdout",
     "output_type": "stream",
     "text": [
      "14177 100\n"
     ]
    }
   ],
   "source": [
    "w_graph = get_total_graph(f_graph, users)\n",
    "print(len(f_graph), len(test_graph))"
   ]
  },
  {
   "cell_type": "code",
   "execution_count": 1,
   "id": "4f06d8d9",
   "metadata": {},
   "outputs": [
    {
     "ename": "NameError",
     "evalue": "name 'time' is not defined",
     "output_type": "error",
     "traceback": [
      "\u001b[1;31m---------------------------------------------------------------------------\u001b[0m",
      "\u001b[1;31mNameError\u001b[0m                                 Traceback (most recent call last)",
      "\u001b[1;32m<ipython-input-1-cb5855ac8d6e>\u001b[0m in \u001b[0;36m<module>\u001b[1;34m\u001b[0m\n\u001b[1;32m----> 1\u001b[1;33m \u001b[0mstart\u001b[0m \u001b[1;33m=\u001b[0m \u001b[0mtime\u001b[0m\u001b[1;33m.\u001b[0m\u001b[0mtime\u001b[0m\u001b[1;33m(\u001b[0m\u001b[1;33m)\u001b[0m\u001b[1;33m\u001b[0m\u001b[1;33m\u001b[0m\u001b[0m\n\u001b[0m\u001b[0;32m      2\u001b[0m \u001b[0mbetweeness\u001b[0m \u001b[1;33m=\u001b[0m \u001b[0mutilities\u001b[0m\u001b[1;33m.\u001b[0m\u001b[0mbetweeness_centrality\u001b[0m\u001b[1;33m(\u001b[0m\u001b[0mw_graph\u001b[0m\u001b[1;33m)\u001b[0m\u001b[1;33m\u001b[0m\u001b[1;33m\u001b[0m\u001b[0m\n\u001b[0;32m      3\u001b[0m \u001b[0mend\u001b[0m \u001b[1;33m=\u001b[0m \u001b[0mtime\u001b[0m\u001b[1;33m.\u001b[0m\u001b[0mtime\u001b[0m\u001b[1;33m(\u001b[0m\u001b[1;33m)\u001b[0m\u001b[1;33m\u001b[0m\u001b[1;33m\u001b[0m\u001b[0m\n\u001b[0;32m      4\u001b[0m \u001b[0mprint\u001b[0m\u001b[1;33m(\u001b[0m\u001b[0mend\u001b[0m \u001b[1;33m-\u001b[0m \u001b[0mstart\u001b[0m\u001b[1;33m)\u001b[0m\u001b[1;33m\u001b[0m\u001b[1;33m\u001b[0m\u001b[0m\n",
      "\u001b[1;31mNameError\u001b[0m: name 'time' is not defined"
     ]
    }
   ],
   "source": [
    "start = time.time()\n",
    "betweeness = utilities.betweeness_centrality(w_graph)\n",
    "end = time.time()\n",
    "print(end - start)"
   ]
  },
  {
   "cell_type": "code",
   "execution_count": null,
   "id": "dfa448e4",
   "metadata": {},
   "outputs": [],
   "source": []
  }
 ],
 "metadata": {
  "kernelspec": {
   "display_name": "Python 3",
   "language": "python",
   "name": "python3"
  },
  "language_info": {
   "codemirror_mode": {
    "name": "ipython",
    "version": 3
   },
   "file_extension": ".py",
   "mimetype": "text/x-python",
   "name": "python",
   "nbconvert_exporter": "python",
   "pygments_lexer": "ipython3",
   "version": "3.8.8"
  }
 },
 "nbformat": 4,
 "nbformat_minor": 5
}
