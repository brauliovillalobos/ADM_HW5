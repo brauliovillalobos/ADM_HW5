{
 "cells": [
  {
   "cell_type": "markdown",
   "id": "84876c03-e9a8-4034-a72b-a89a217f0aaf",
   "metadata": {},
   "source": [
    "# A2Q - Answers to Questions"
   ]
  },
  {
   "cell_type": "code",
   "execution_count": 284,
   "id": "69cadd75-e26e-43d0-8e90-396ab9f7eac8",
   "metadata": {},
   "outputs": [],
   "source": [
    "a2q = open('sx-stackoverflow-a2q.txt','r').read().split('\\n')"
   ]
  },
  {
   "cell_type": "code",
   "execution_count": null,
   "id": "92ccd5fc-7e85-4c9b-a016-5d8545832856",
   "metadata": {},
   "outputs": [],
   "source": [
    "a2q = a2q[:-1]"
   ]
  },
  {
   "cell_type": "code",
   "execution_count": 275,
   "id": "abe52993-1eaf-4f44-848e-15f0fbc6fe80",
   "metadata": {},
   "outputs": [],
   "source": [
    "import numpy as np\n",
    "\n",
    "li = np.array(a2q)\n",
    "l = np.array([list(map(int, i.split())) for i in li])\n",
    "x1, x2, x3 = l[:,0], l[:,1], l[:,2]"
   ]
  },
  {
   "cell_type": "code",
   "execution_count": 279,
   "id": "8a3b4fe3-b968-4805-9093-f2f82e8411db",
   "metadata": {},
   "outputs": [],
   "source": [
    "#np.save(\"a2q_x1\", x1)\n",
    "#np.save(\"a2q_x2\", x2)\n",
    "#np.save(\"a2q_x3\", x3)"
   ]
  },
  {
   "cell_type": "markdown",
   "id": "53495866-836f-48a3-839f-f4035550e784",
   "metadata": {},
   "source": [
    "# c2q - Comments to Questions"
   ]
  },
  {
   "cell_type": "code",
   "execution_count": 1,
   "id": "1c555519-ac91-4102-8924-ed113e4a63a1",
   "metadata": {},
   "outputs": [],
   "source": [
    "c2q = open('sx-stackoverflow-c2q.txt','r').read().split('\\n')"
   ]
  },
  {
   "cell_type": "code",
   "execution_count": 6,
   "id": "80cc80a7-1538-4d21-b90c-8fc010b9d4a9",
   "metadata": {},
   "outputs": [],
   "source": [
    "c2q = c2q[:-1]"
   ]
  },
  {
   "cell_type": "code",
   "execution_count": 8,
   "id": "4258c863-43a6-4bd3-8a9a-5d47a5e396e7",
   "metadata": {},
   "outputs": [],
   "source": [
    "import numpy as np\n",
    "\n",
    "li = np.array(c2q)\n",
    "l = np.array([list(map(int, i.split())) for i in li])\n",
    "x1, x2, x3 = l[:,0], l[:,1], l[:,2]"
   ]
  },
  {
   "cell_type": "code",
   "execution_count": 9,
   "id": "cf3536eb-bb32-4798-99f0-ed7915c4de30",
   "metadata": {},
   "outputs": [],
   "source": [
    "#np.save(\"c2q_x1\", x1)\n",
    "#np.save(\"c2q_x2\", x2)\n",
    "#np.save(\"c2q_x3\", x3)"
   ]
  },
  {
   "cell_type": "markdown",
   "id": "97275716-2c28-465e-b5a8-bc47010b8449",
   "metadata": {},
   "source": [
    "# c2a - Comments to Answers"
   ]
  },
  {
   "cell_type": "code",
   "execution_count": 10,
   "id": "2779174c-79d6-4ee6-955c-3b7d735ba256",
   "metadata": {},
   "outputs": [],
   "source": [
    "c2a = open('sx-stackoverflow-c2a.txt','r').read().split('\\n')"
   ]
  },
  {
   "cell_type": "code",
   "execution_count": 11,
   "id": "3785df34-5c0b-416b-984d-36c7b14c11c4",
   "metadata": {},
   "outputs": [],
   "source": [
    "c2a = c2a[:-1]"
   ]
  },
  {
   "cell_type": "code",
   "execution_count": 12,
   "id": "d6478363-89bd-4b71-9add-f8b3e054c762",
   "metadata": {},
   "outputs": [],
   "source": [
    "import numpy as np\n",
    "\n",
    "li = np.array(c2a)\n",
    "l = np.array([list(map(int, i.split())) for i in li])\n",
    "x1, x2, x3 = l[:,0], l[:,1], l[:,2]"
   ]
  },
  {
   "cell_type": "code",
   "execution_count": 13,
   "id": "2132cef4-42cd-448f-bcea-ef8da2c19cdb",
   "metadata": {},
   "outputs": [],
   "source": [
    "np.save(\"c2a_x1\", x1)\n",
    "np.save(\"c2a_x2\", x2)\n",
    "np.save(\"c2a_x3\", x3)"
   ]
  },
  {
   "cell_type": "markdown",
   "id": "2647f166-d41b-4e7b-bb4d-ca5d473267d6",
   "metadata": {},
   "source": [
    "#### Function to parse the info and create a dictionary"
   ]
  },
  {
   "cell_type": "code",
   "execution_count": 65,
   "id": "05113845-b552-455c-8a0f-a43e82fff0cf",
   "metadata": {},
   "outputs": [],
   "source": [
    "# Load the 3 components of the graph\n",
    "x1 = np.load(\"a2q_x1.npy\")\n",
    "x2 = np.load(\"a2q_x2.npy\")\n",
    "x3 = np.load(\"a2q_x3.npy\")"
   ]
  },
  {
   "cell_type": "code",
   "execution_count": 75,
   "id": "88116670-c0c7-4b70-84a7-13bb264ca894",
   "metadata": {},
   "outputs": [],
   "source": [
    "def create_dict(id_source_node, id_target_node, timestamp, given_weight):\n",
    "    \n",
    "    a_dict = {}\n",
    "    \n",
    "    for a,b,c in zip(list(id_source_node),list(id_target_node),list(timestamp)):\n",
    "        if(a in a_dict):\n",
    "            if not isinstance(a_dict[a],list):\n",
    "                a_dict[a] = [a_dict[a]]\n",
    "            \n",
    "            a_dict[a].append([b,c,given_weight])\n",
    "        else:\n",
    "            a_dict[a] = [[b,c,given_weight]]\n",
    "    \n",
    "    return(a_dict)"
   ]
  },
  {
   "cell_type": "code",
   "execution_count": null,
   "id": "f18eabb2-c8bf-4b9f-a146-fa6707fec893",
   "metadata": {},
   "outputs": [],
   "source": [
    "dict_test = create_dict(x1,x2,x3,10)"
   ]
  }
 ],
 "metadata": {
  "kernelspec": {
   "display_name": "Python 3",
   "language": "python",
   "name": "python3"
  },
  "language_info": {
   "codemirror_mode": {
    "name": "ipython",
    "version": 3
   },
   "file_extension": ".py",
   "mimetype": "text/x-python",
   "name": "python",
   "nbconvert_exporter": "python",
   "pygments_lexer": "ipython3",
   "version": "3.8.8"
  }
 },
 "nbformat": 4,
 "nbformat_minor": 5
}
